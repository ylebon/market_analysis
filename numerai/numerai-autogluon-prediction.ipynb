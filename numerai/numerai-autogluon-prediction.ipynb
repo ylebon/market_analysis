{
 "cells": [
  {
   "cell_type": "code",
   "execution_count": 1,
   "id": "385a3621-84ad-4960-a762-68275ca885c2",
   "metadata": {},
   "outputs": [
    {
     "name": "stdout",
     "output_type": "stream",
     "text": [
      "Requirement already satisfied: pandas in /home/ubuntu/miniconda3/envs/env3.9/lib/python3.9/site-packages (1.3.5)\n",
      "Requirement already satisfied: sklearn in /home/ubuntu/miniconda3/envs/env3.9/lib/python3.9/site-packages (0.0)\n",
      "Requirement already satisfied: numerapi in /home/ubuntu/miniconda3/envs/env3.9/lib/python3.9/site-packages (2.12.0)\n",
      "Requirement already satisfied: python-dateutil>=2.7.3 in /home/ubuntu/miniconda3/envs/env3.9/lib/python3.9/site-packages (from pandas) (2.8.2)\n",
      "Requirement already satisfied: numpy>=1.17.3 in /home/ubuntu/miniconda3/envs/env3.9/lib/python3.9/site-packages (from pandas) (1.22.4)\n",
      "Requirement already satisfied: pytz>=2017.3 in /home/ubuntu/miniconda3/envs/env3.9/lib/python3.9/site-packages (from pandas) (2022.1)\n",
      "Requirement already satisfied: scikit-learn in /home/ubuntu/miniconda3/envs/env3.9/lib/python3.9/site-packages (from sklearn) (1.0.2)\n",
      "Requirement already satisfied: tqdm>=4.29.1 in /home/ubuntu/miniconda3/envs/env3.9/lib/python3.9/site-packages (from numerapi) (4.64.0)\n",
      "Requirement already satisfied: click>=7.0 in /home/ubuntu/miniconda3/envs/env3.9/lib/python3.9/site-packages (from numerapi) (8.0.4)\n",
      "Requirement already satisfied: requests in /home/ubuntu/miniconda3/envs/env3.9/lib/python3.9/site-packages (from numerapi) (2.27.1)\n",
      "Requirement already satisfied: six>=1.5 in /home/ubuntu/miniconda3/envs/env3.9/lib/python3.9/site-packages (from python-dateutil>=2.7.3->pandas) (1.16.0)\n",
      "Requirement already satisfied: certifi>=2017.4.17 in /home/ubuntu/miniconda3/envs/env3.9/lib/python3.9/site-packages (from requests->numerapi) (2022.5.18.1)\n",
      "Requirement already satisfied: charset-normalizer~=2.0.0 in /home/ubuntu/miniconda3/envs/env3.9/lib/python3.9/site-packages (from requests->numerapi) (2.0.4)\n",
      "Requirement already satisfied: idna<4,>=2.5 in /home/ubuntu/miniconda3/envs/env3.9/lib/python3.9/site-packages (from requests->numerapi) (3.3)\n",
      "Requirement already satisfied: urllib3<1.27,>=1.21.1 in /home/ubuntu/miniconda3/envs/env3.9/lib/python3.9/site-packages (from requests->numerapi) (1.26.9)\n",
      "Requirement already satisfied: threadpoolctl>=2.0.0 in /home/ubuntu/miniconda3/envs/env3.9/lib/python3.9/site-packages (from scikit-learn->sklearn) (3.1.0)\n",
      "Requirement already satisfied: joblib>=0.11 in /home/ubuntu/miniconda3/envs/env3.9/lib/python3.9/site-packages (from scikit-learn->sklearn) (1.1.0)\n",
      "Requirement already satisfied: scipy>=1.1.0 in /home/ubuntu/miniconda3/envs/env3.9/lib/python3.9/site-packages (from scikit-learn->sklearn) (1.7.3)\n"
     ]
    }
   ],
   "source": [
    "# install dependencies\n",
    "!pip install pandas sklearn numerapi"
   ]
  },
  {
   "cell_type": "code",
   "execution_count": 2,
   "id": "44cea84f-1735-4c60-965d-8df498a6ecd3",
   "metadata": {},
   "outputs": [],
   "source": [
    "# import dependencies\n",
    "import pandas as pd\n",
    "import numerapi\n",
    "import sklearn.linear_model"
   ]
  },
  {
   "cell_type": "code",
   "execution_count": 3,
   "id": "134b561e-0cb4-4dbc-8952-2d63b8690887",
   "metadata": {},
   "outputs": [],
   "source": [
    "# download the latest tournament dataset (takes around 30s)\n",
    "tournament_data = pd.read_csv(\"https://numerai-public-datasets.s3-us-west-2.amazonaws.com/latest_numerai_tournament_data.csv.xz\")"
   ]
  },
  {
   "cell_type": "code",
   "execution_count": 4,
   "id": "b17d7cef-f11a-48b3-ae65-a918b2fdc397",
   "metadata": {},
   "outputs": [],
   "source": [
    "# find only the feature columns\n",
    "feature_cols = tournament_data.columns[tournament_data.columns.str.startswith('feature')]\n",
    "feature_cols = feature_cols.tolist()"
   ]
  },
  {
   "cell_type": "code",
   "execution_count": 5,
   "id": "0217e6ca-8978-493d-bae2-cb9f507b74e5",
   "metadata": {},
   "outputs": [],
   "source": [
    "# predict the target on the live features\n",
    "from autogluon.tabular import TabularDataset, TabularPredictor\n",
    "predictor = TabularPredictor.load(\"AutogluonModels/ag-20220618_131043/\")"
   ]
  },
  {
   "cell_type": "code",
   "execution_count": 6,
   "id": "399c8035-f04b-4c05-87aa-1768a286ba2c",
   "metadata": {},
   "outputs": [],
   "source": [
    "df_reader = pd.read_csv(\"https://numerai-public-datasets.s3-us-west-2.amazonaws.com/latest_numerai_tournament_data.csv.xz\", chunksize=4096)"
   ]
  },
  {
   "cell_type": "code",
   "execution_count": 7,
   "id": "8a81d6fa-1d21-48ec-93d4-ed3d29699894",
   "metadata": {},
   "outputs": [],
   "source": [
    "y_pred = []\n",
    "for df_chunk in df_reader:\n",
    "    y_pred.append(predictor.predict(df_chunk[feature_cols], as_pandas=True))\n",
    "y_pred = pd.concat(y_pred, axis=0, ignore_index=True)"
   ]
  },
  {
   "cell_type": "code",
   "execution_count": 8,
   "id": "aa2247e3-a4b1-4d81-a273-14c3eeae9f4e",
   "metadata": {},
   "outputs": [
    {
     "data": {
      "text/html": [
       "<div>\n",
       "<style scoped>\n",
       "    .dataframe tbody tr th:only-of-type {\n",
       "        vertical-align: middle;\n",
       "    }\n",
       "\n",
       "    .dataframe tbody tr th {\n",
       "        vertical-align: top;\n",
       "    }\n",
       "\n",
       "    .dataframe thead th {\n",
       "        text-align: right;\n",
       "    }\n",
       "</style>\n",
       "<table border=\"1\" class=\"dataframe\">\n",
       "  <thead>\n",
       "    <tr style=\"text-align: right;\">\n",
       "      <th></th>\n",
       "      <th>id</th>\n",
       "      <th>prediction</th>\n",
       "    </tr>\n",
       "  </thead>\n",
       "  <tbody>\n",
       "    <tr>\n",
       "      <th>0</th>\n",
       "      <td>n0003aa52cab36c2</td>\n",
       "      <td>0.488228</td>\n",
       "    </tr>\n",
       "    <tr>\n",
       "      <th>1</th>\n",
       "      <td>n000920ed083903f</td>\n",
       "      <td>0.488633</td>\n",
       "    </tr>\n",
       "    <tr>\n",
       "      <th>2</th>\n",
       "      <td>n0038e640522c4a6</td>\n",
       "      <td>0.525052</td>\n",
       "    </tr>\n",
       "    <tr>\n",
       "      <th>3</th>\n",
       "      <td>n004ac94a87dc54b</td>\n",
       "      <td>0.496688</td>\n",
       "    </tr>\n",
       "    <tr>\n",
       "      <th>4</th>\n",
       "      <td>n0052fe97ea0c05f</td>\n",
       "      <td>0.506878</td>\n",
       "    </tr>\n",
       "  </tbody>\n",
       "</table>\n",
       "</div>"
      ],
      "text/plain": [
       "                 id  prediction\n",
       "0  n0003aa52cab36c2    0.488228\n",
       "1  n000920ed083903f    0.488633\n",
       "2  n0038e640522c4a6    0.525052\n",
       "3  n004ac94a87dc54b    0.496688\n",
       "4  n0052fe97ea0c05f    0.506878"
      ]
     },
     "execution_count": 8,
     "metadata": {},
     "output_type": "execute_result"
    }
   ],
   "source": [
    "# predictions must have an `id` column and a `prediction` column\n",
    "predictions_df = tournament_data[\"id\"].to_frame()\n",
    "predictions_df[\"prediction\"] = y_pred\n",
    "predictions_df.head()"
   ]
  },
  {
   "cell_type": "code",
   "execution_count": null,
   "id": "2fa83392-2e32-46ca-88a1-825a8a30ce82",
   "metadata": {},
   "outputs": [],
   "source": [
    "# Upload your predictions\n",
    "predictions_df.to_csv(\"autogluon_predictions.csv\", index=False)"
   ]
  },
  {
   "cell_type": "code",
   "execution_count": 9,
   "id": "07a96624-f46e-4add-817e-2d27f9c8fe93",
   "metadata": {},
   "outputs": [],
   "source": [
    "# Get your API keys and model_id from https://numer.ai/notebook\n",
    "public_id = \"\"\n",
    "secret_key = \"\"\n",
    "model_id = \"\"\n",
    "napi = numerapi.NumerAPI(public_id=public_id, secret_key=secret_key)"
   ]
  },
  {
   "cell_type": "code",
   "execution_count": 11,
   "id": "a8562f99-64f5-4212-aedb-6240a96bcb97",
   "metadata": {},
   "outputs": [
    {
     "name": "stderr",
     "output_type": "stream",
     "text": [
      "Timeout Error: HTTPSConnectionPool(host='api-tournament.numer.ai', port=443): Read timed out. (read timeout=3)\n"
     ]
    },
    {
     "ename": "KeyError",
     "evalue": "'data'",
     "output_type": "error",
     "traceback": [
      "\u001b[0;31m---------------------------------------------------------------------------\u001b[0m",
      "\u001b[0;31mKeyError\u001b[0m                                  Traceback (most recent call last)",
      "Input \u001b[0;32mIn [11]\u001b[0m, in \u001b[0;36m<cell line: 1>\u001b[0;34m()\u001b[0m\n\u001b[0;32m----> 1\u001b[0m submission_id \u001b[38;5;241m=\u001b[39m \u001b[43mnapi\u001b[49m\u001b[38;5;241;43m.\u001b[39;49m\u001b[43mupload_predictions\u001b[49m\u001b[43m(\u001b[49m\u001b[38;5;124;43m\"\u001b[39;49m\u001b[38;5;124;43mautogluon_predictions.csv\u001b[39;49m\u001b[38;5;124;43m\"\u001b[39;49m\u001b[43m,\u001b[49m\u001b[43m \u001b[49m\u001b[43mmodel_id\u001b[49m\u001b[38;5;241;43m=\u001b[39;49m\u001b[43mmodel_id\u001b[49m\u001b[43m)\u001b[49m\n",
      "File \u001b[0;32m~/miniconda3/envs/env3.9/lib/python3.9/site-packages/numerapi/numerapi.py:611\u001b[0m, in \u001b[0;36mNumerAPI.upload_predictions\u001b[0;34m(self, file_path, tournament, model_id, df)\u001b[0m\n\u001b[1;32m    606\u001b[0m arguments \u001b[38;5;241m=\u001b[39m {\u001b[38;5;124m'\u001b[39m\u001b[38;5;124mfilename\u001b[39m\u001b[38;5;124m'\u001b[39m: upload_auth[\u001b[38;5;124m'\u001b[39m\u001b[38;5;124mfilename\u001b[39m\u001b[38;5;124m'\u001b[39m],\n\u001b[1;32m    607\u001b[0m              \u001b[38;5;124m'\u001b[39m\u001b[38;5;124mtournament\u001b[39m\u001b[38;5;124m'\u001b[39m: tournament,\n\u001b[1;32m    608\u001b[0m              \u001b[38;5;124m'\u001b[39m\u001b[38;5;124mmodelId\u001b[39m\u001b[38;5;124m'\u001b[39m: model_id,\n\u001b[1;32m    609\u001b[0m              \u001b[38;5;124m'\u001b[39m\u001b[38;5;124mtriggerId\u001b[39m\u001b[38;5;124m'\u001b[39m: os\u001b[38;5;241m.\u001b[39mgetenv(\u001b[38;5;124m'\u001b[39m\u001b[38;5;124mTRIGGER_ID\u001b[39m\u001b[38;5;124m'\u001b[39m, \u001b[38;5;28;01mNone\u001b[39;00m)}\n\u001b[1;32m    610\u001b[0m create \u001b[38;5;241m=\u001b[39m \u001b[38;5;28mself\u001b[39m\u001b[38;5;241m.\u001b[39mraw_query(create_query, arguments, authorization\u001b[38;5;241m=\u001b[39m\u001b[38;5;28;01mTrue\u001b[39;00m)\n\u001b[0;32m--> 611\u001b[0m submission_id \u001b[38;5;241m=\u001b[39m \u001b[43mcreate\u001b[49m\u001b[43m[\u001b[49m\u001b[38;5;124;43m'\u001b[39;49m\u001b[38;5;124;43mdata\u001b[39;49m\u001b[38;5;124;43m'\u001b[39;49m\u001b[43m]\u001b[49m[\u001b[38;5;124m'\u001b[39m\u001b[38;5;124mcreate_submission\u001b[39m\u001b[38;5;124m'\u001b[39m][\u001b[38;5;124m'\u001b[39m\u001b[38;5;124mid\u001b[39m\u001b[38;5;124m'\u001b[39m]\n\u001b[1;32m    612\u001b[0m \u001b[38;5;28;01mreturn\u001b[39;00m submission_id\n",
      "\u001b[0;31mKeyError\u001b[0m: 'data'"
     ]
    }
   ],
   "source": [
    "submission_id = napi.upload_predictions(\"autogluon_predictions.csv\", model_id=model_id)"
   ]
  },
  {
   "cell_type": "code",
   "execution_count": null,
   "id": "a31a2802-14de-4690-a96d-90f2bf44383f",
   "metadata": {},
   "outputs": [],
   "source": []
  }
 ],
 "metadata": {
  "kernelspec": {
   "display_name": "Python 3 (ipykernel)",
   "language": "python",
   "name": "python3"
  },
  "language_info": {
   "codemirror_mode": {
    "name": "ipython",
    "version": 3
   },
   "file_extension": ".py",
   "mimetype": "text/x-python",
   "name": "python",
   "nbconvert_exporter": "python",
   "pygments_lexer": "ipython3",
   "version": "3.9.12"
  }
 },
 "nbformat": 4,
 "nbformat_minor": 5
}
